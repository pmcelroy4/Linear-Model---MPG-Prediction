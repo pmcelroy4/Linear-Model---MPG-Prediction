{
 "cells": [
  {
   "cell_type": "code",
   "execution_count": 90,
   "id": "64b00be9",
   "metadata": {},
   "outputs": [],
   "source": [
    "# Import required packages\n",
    "\n",
    "import numpy as np\n",
    "import pandas as pd\n",
    "import matplotlib.pyplot as plt\n",
    "\n",
    "# Scikit-learn\n",
    "from sklearn.linear_model import LinearRegression\n",
    "from sklearn.model_selection import train_test_split\n",
    "from sklearn.preprocessing import MinMaxScaler, StandardScaler\n",
    "\n",
    "\n",
    "%matplotlib inline\n",
    "\n",
    "np.random.seed(100)"
   ]
  },
  {
   "cell_type": "code",
   "execution_count": 91,
   "id": "7a4ff53c",
   "metadata": {},
   "outputs": [
    {
     "data": {
      "text/html": [
       "<div>\n",
       "<style scoped>\n",
       "    .dataframe tbody tr th:only-of-type {\n",
       "        vertical-align: middle;\n",
       "    }\n",
       "\n",
       "    .dataframe tbody tr th {\n",
       "        vertical-align: top;\n",
       "    }\n",
       "\n",
       "    .dataframe thead th {\n",
       "        text-align: right;\n",
       "    }\n",
       "</style>\n",
       "<table border=\"1\" class=\"dataframe\">\n",
       "  <thead>\n",
       "    <tr style=\"text-align: right;\">\n",
       "      <th></th>\n",
       "      <th>MPG</th>\n",
       "      <th>Cyl</th>\n",
       "      <th>Dis</th>\n",
       "      <th>Hrspwr</th>\n",
       "      <th>Weight</th>\n",
       "      <th>Accel</th>\n",
       "      <th>Yr</th>\n",
       "      <th>Origin</th>\n",
       "    </tr>\n",
       "  </thead>\n",
       "  <tbody>\n",
       "    <tr>\n",
       "      <th>0</th>\n",
       "      <td>18.0</td>\n",
       "      <td>8</td>\n",
       "      <td>307.0</td>\n",
       "      <td>130</td>\n",
       "      <td>3504</td>\n",
       "      <td>12.0</td>\n",
       "      <td>70</td>\n",
       "      <td>1</td>\n",
       "    </tr>\n",
       "    <tr>\n",
       "      <th>1</th>\n",
       "      <td>15.0</td>\n",
       "      <td>8</td>\n",
       "      <td>350.0</td>\n",
       "      <td>165</td>\n",
       "      <td>3693</td>\n",
       "      <td>11.5</td>\n",
       "      <td>70</td>\n",
       "      <td>1</td>\n",
       "    </tr>\n",
       "    <tr>\n",
       "      <th>2</th>\n",
       "      <td>18.0</td>\n",
       "      <td>8</td>\n",
       "      <td>318.0</td>\n",
       "      <td>150</td>\n",
       "      <td>3436</td>\n",
       "      <td>11.0</td>\n",
       "      <td>70</td>\n",
       "      <td>1</td>\n",
       "    </tr>\n",
       "    <tr>\n",
       "      <th>3</th>\n",
       "      <td>16.0</td>\n",
       "      <td>8</td>\n",
       "      <td>304.0</td>\n",
       "      <td>150</td>\n",
       "      <td>3433</td>\n",
       "      <td>12.0</td>\n",
       "      <td>70</td>\n",
       "      <td>1</td>\n",
       "    </tr>\n",
       "    <tr>\n",
       "      <th>4</th>\n",
       "      <td>17.0</td>\n",
       "      <td>8</td>\n",
       "      <td>302.0</td>\n",
       "      <td>140</td>\n",
       "      <td>3449</td>\n",
       "      <td>10.5</td>\n",
       "      <td>70</td>\n",
       "      <td>1</td>\n",
       "    </tr>\n",
       "  </tbody>\n",
       "</table>\n",
       "</div>"
      ],
      "text/plain": [
       "    MPG  Cyl    Dis Hrspwr  Weight  Accel  Yr  Origin\n",
       "0  18.0    8  307.0    130    3504   12.0  70       1\n",
       "1  15.0    8  350.0    165    3693   11.5  70       1\n",
       "2  18.0    8  318.0    150    3436   11.0  70       1\n",
       "3  16.0    8  304.0    150    3433   12.0  70       1\n",
       "4  17.0    8  302.0    140    3449   10.5  70       1"
      ]
     },
     "execution_count": 91,
     "metadata": {},
     "output_type": "execute_result"
    }
   ],
   "source": [
    "# Import required data\n",
    "df = pd.read_excel(\"MPG_data.xlsx\")\n",
    "df.head(5)"
   ]
  },
  {
   "cell_type": "code",
   "execution_count": 92,
   "id": "47a8985f",
   "metadata": {},
   "outputs": [],
   "source": [
    "# Clean and process data\n",
    "df = df.replace('?', 0)"
   ]
  },
  {
   "cell_type": "code",
   "execution_count": 93,
   "id": "9895769d",
   "metadata": {},
   "outputs": [
    {
     "data": {
      "text/plain": [
       "(398, 8)"
      ]
     },
     "execution_count": 93,
     "metadata": {},
     "output_type": "execute_result"
    }
   ],
   "source": [
    "# Get values from the dataframe to begin the train test split\n",
    "data_mat = df.values\n",
    "data_mat.shape"
   ]
  },
  {
   "cell_type": "code",
   "execution_count": 94,
   "id": "c6d22f2f",
   "metadata": {},
   "outputs": [],
   "source": [
    "X = data_mat[:,1:]\n",
    "y = data_mat[:,0]\n",
    "x_train, x_test, y_train, y_test = train_test_split(X, y, test_size = 0.2, random_state = 100)"
   ]
  },
  {
   "cell_type": "code",
   "execution_count": 95,
   "id": "2eb9bf21",
   "metadata": {},
   "outputs": [],
   "source": [
    "# Normalize the data to account for different units\n",
    "scaler = MinMaxScaler()\n",
    "X_train = scaler.fit_transform(x_train)\n",
    "X_test = scaler.transform(x_test)"
   ]
  },
  {
   "cell_type": "code",
   "execution_count": 96,
   "id": "8195b0e4",
   "metadata": {},
   "outputs": [],
   "source": [
    "# Create the Linear Regression Model\n",
    "lr = LinearRegression()"
   ]
  },
  {
   "cell_type": "code",
   "execution_count": 97,
   "id": "a2ad5c06",
   "metadata": {},
   "outputs": [
    {
     "data": {
      "text/plain": [
       "LinearRegression()"
      ]
     },
     "execution_count": 97,
     "metadata": {},
     "output_type": "execute_result"
    }
   ],
   "source": [
    "# Train the Model\n",
    "lr.fit(X_train, y_train)"
   ]
  },
  {
   "cell_type": "code",
   "execution_count": 98,
   "id": "4a077801",
   "metadata": {},
   "outputs": [
    {
     "name": "stdout",
     "output_type": "stream",
     "text": [
      "Predicted Values:[31.5  29.66 20.64 22.97 29.08]\n",
      "Test Values:[43.4 35.  21.  20.  27. ]\n"
     ]
    }
   ],
   "source": [
    "# Evaluate the Model\n",
    "y_pred = lr.predict(X_test)\n",
    "print(f\"Predicted Values:{np.round(y_pred[0:5], 2)}\")\n",
    "print(f\"Test Values:{y_test[0:5]}\")"
   ]
  },
  {
   "cell_type": "code",
   "execution_count": 99,
   "id": "d11b60cd",
   "metadata": {},
   "outputs": [
    {
     "name": "stdout",
     "output_type": "stream",
     "text": [
      "R-squared for training data: 0.8172497220251792\n",
      "R-squared for test data: 0.8335114933690133\n"
     ]
    }
   ],
   "source": [
    "# R squared values for Training and Testing Data\n",
    "print(f\"R-squared for training data: {lr.score(X_train, y_train)}\")\n",
    "print(f\"R-squared for test data: {lr.score(X_test, y_test)}\")"
   ]
  },
  {
   "cell_type": "code",
   "execution_count": 100,
   "id": "60039c3e",
   "metadata": {},
   "outputs": [
    {
     "data": {
      "image/png": "[encoded data removed]",
      "text/plain": [
       "<Figure size 600x600 with 1 Axes>"
      ]
     },
     "metadata": {},
     "output_type": "display_data"
    }
   ],
   "source": [
    "# Graphical Representation of True and Observed for Test Data\n",
    "fig, ax = plt.subplots()\n",
    "fig.set_size_inches(6,6)\n",
    "ax.scatter(y_test, y_pred, edgecolors=(0, 0, 0))\n",
    "ax.plot([y_test.min(), y_test.max()], [y_test.min(), y_test.max()], 'k--', lw=4)\n",
    "ax.set_xlabel('Measured')\n",
    "ax.set_ylabel('Predicted')\n",
    "plt.show()"
   ]
  },
  {
   "cell_type": "code",
   "execution_count": 101,
   "id": "79129bec",
   "metadata": {},
   "outputs": [
    {
     "name": "stdout",
     "output_type": "stream",
     "text": [
      "(398, 35)\n"
     ]
    }
   ],
   "source": [
    "# Can make some adjustments to improve the model: Polynomial Features\n",
    "from sklearn.preprocessing import PolynomialFeatures\n",
    "poly = PolynomialFeatures(degree=2, include_bias=False)\n",
    "Xp = poly.fit_transform(X)\n",
    "print (Xp.shape) "
   ]
  },
  {
   "cell_type": "code",
   "execution_count": 102,
   "id": "37a89daf",
   "metadata": {},
   "outputs": [],
   "source": [
    "Xp_train, Xp_test, y_train, y_test  = train_test_split(Xp, y, test_size=0.2, random_state=10)"
   ]
  },
  {
   "cell_type": "code",
   "execution_count": 103,
   "id": "fb04e1c7",
   "metadata": {},
   "outputs": [],
   "source": [
    "normalizer = MinMaxScaler()\n",
    "normalizer.fit(Xp_train)\n",
    "Xpn_train = normalizer.transform(Xp_train)\n",
    "Xpn_test = normalizer.transform(Xp_test)"
   ]
  },
  {
   "cell_type": "code",
   "execution_count": 104,
   "id": "2b6fd1c7",
   "metadata": {},
   "outputs": [
    {
     "data": {
      "text/plain": [
       "LassoCV(alphas=[0.01, 0.05, 1.0, 5, 10, 100], max_iter=10000, tol=1e-05)"
      ]
     },
     "execution_count": 104,
     "metadata": {},
     "output_type": "execute_result"
    }
   ],
   "source": [
    "# Create Linear Regression Model\n",
    "from  sklearn.linear_model import LassoCV\n",
    "linreg = LassoCV(alphas=[  0.01, 0.05, 1.0, 5, 10, 100], max_iter=10000, tol=0.00001)\n",
    "linreg.fit(Xpn_train, y_train)"
   ]
  },
  {
   "cell_type": "code",
   "execution_count": 105,
   "id": "7e1de91c",
   "metadata": {},
   "outputs": [
    {
     "name": "stdout",
     "output_type": "stream",
     "text": [
      "R-squared for the training data:  0.8732700855811895\n",
      "R-squared for the test data:  0.8395306317971462\n"
     ]
    }
   ],
   "source": [
    "#R-squared for training and test\n",
    "print(\"R-squared for the training data: \", linreg.score(Xpn_train, y_train))\n",
    "print (\"R-squared for the test data: \", linreg.score(Xpn_test, y_test))"
   ]
  },
  {
   "cell_type": "markdown",
   "id": "e5fda5d9",
   "metadata": {},
   "source": [
    "Saw a significant increase in the R-squared in the training data, however similar R-squared for the test data."
   ]
  },
  {
   "cell_type": "code",
   "execution_count": 106,
   "id": "314185f0",
   "metadata": {},
   "outputs": [
    {
     "data": {
      "image/png": "[encoded data removed]",
      "text/plain": [
       "<Figure size 600x600 with 1 Axes>"
      ]
     },
     "metadata": {},
     "output_type": "display_data"
    }
   ],
   "source": [
    "yp_pred = linreg.predict(Xpn_test)\n",
    "fig, ax = plt.subplots()\n",
    "fig.set_size_inches(6,6)\n",
    "ax.scatter(y_test, yp_pred, edgecolors=(0, 0, 0))\n",
    "ax.plot([y_test.min(), y_test.max()], [y_test.min(), y_test.max()], 'r--', lw=4)\n",
    "ax.set_xlabel('Measured')\n",
    "ax.set_ylabel('Predicted')\n",
    "plt.show()"
   ]
  },
  {
   "cell_type": "code",
   "execution_count": null,
   "id": "80ab38cf",
   "metadata": {},
   "outputs": [],
   "source": []
  }
 ],
 "metadata": {
  "kernelspec": {
   "display_name": "Python 3 (ipykernel)",
   "language": "python",
   "name": "python3"
  },
  "language_info": {
   "codemirror_mode": {
    "name": "ipython",
    "version": 3
   },
   "file_extension": ".py",
   "mimetype": "text/x-python",
   "name": "python",
   "nbconvert_exporter": "python",
   "pygments_lexer": "ipython3",
   "version": "3.9.18"
  }
 },
 "nbformat": 4,
 "nbformat_minor": 5
}
